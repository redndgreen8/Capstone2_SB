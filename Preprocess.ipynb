{
 "cells": [
  {
   "cell_type": "markdown",
   "id": "e6a12fdb",
   "metadata": {
    "ExecuteTime": {
     "end_time": "2023-09-14T22:26:56.271190Z",
     "start_time": "2023-09-14T22:26:56.268664Z"
    }
   },
   "source": [
    "import numpy as np\n",
    "import pandas as pd\n",
    "import matplotlib.pyplot as plt\n",
    "from scipy.stats import poisson\n"
   ]
  },
  {
   "cell_type": "code",
   "execution_count": 5,
   "id": "f53c263e",
   "metadata": {
    "ExecuteTime": {
     "end_time": "2023-09-14T22:26:56.799590Z",
     "start_time": "2023-09-14T22:26:56.708567Z"
    }
   },
   "outputs": [],
   "source": [
    "# we will be looking at a stretch on chr6\n",
    "\n",
    "data = pd.read_table('obs6.txt', header=None)\n",
    "obs = data[0]\n",
    "\n",
    "\n"
   ]
  },
  {
   "cell_type": "code",
   "execution_count": 15,
   "id": "0c539835",
   "metadata": {
    "ExecuteTime": {
     "end_time": "2023-09-14T22:32:36.328062Z",
     "start_time": "2023-09-14T22:32:36.322430Z"
    }
   },
   "outputs": [
    {
     "data": {
      "text/plain": [
       "233"
      ]
     },
     "execution_count": 15,
     "metadata": {},
     "output_type": "execute_result"
    }
   ],
   "source": [
    "# We have coverage values that range from zero into the hundreds\n",
    "max_obs = obs.max()\n",
    "max_obs"
   ]
  },
  {
   "cell_type": "code",
   "execution_count": 17,
   "id": "6b4e3dec",
   "metadata": {
    "ExecuteTime": {
     "end_time": "2023-09-14T22:33:13.382571Z",
     "start_time": "2023-09-14T22:33:13.373440Z"
    }
   },
   "outputs": [
    {
     "data": {
      "text/plain": [
       "398.19669705978583"
      ]
     },
     "execution_count": 17,
     "metadata": {},
     "output_type": "execute_result"
    }
   ],
   "source": [
    "# we will cap coverage/copy number at 12*Hmean / 12 \n",
    "n_states = 12\n",
    "Hmean = obs.mean() / 2\n",
    "Hmean\n",
    "\n"
   ]
  },
  {
   "cell_type": "code",
   "execution_count": 21,
   "id": "33a3e1d1",
   "metadata": {
    "ExecuteTime": {
     "end_time": "2023-09-14T22:34:03.777172Z",
     "start_time": "2023-09-14T22:34:03.773075Z"
    }
   },
   "outputs": [
    {
     "data": {
      "text/plain": [
       "398.19669705978583"
      ]
     },
     "execution_count": 21,
     "metadata": {},
     "output_type": "execute_result"
    }
   ],
   "source": [
    "max_cov = Hmean * n_states\n",
    "max_cov"
   ]
  },
  {
   "cell_type": "code",
   "execution_count": 22,
   "id": "756ae7d7",
   "metadata": {
    "ExecuteTime": {
     "end_time": "2023-09-14T22:34:16.785808Z",
     "start_time": "2023-09-14T22:34:16.781962Z"
    }
   },
   "outputs": [
    {
     "data": {
      "text/plain": [
       "1687224"
      ]
     },
     "execution_count": 22,
     "metadata": {},
     "output_type": "execute_result"
    }
   ],
   "source": [
    "#roughly 1.6e6 data points\n",
    "n_obs = len(obs)\n",
    "n_obs\n",
    "\n"
   ]
  },
  {
   "cell_type": "code",
   "execution_count": 26,
   "id": "d772191b",
   "metadata": {
    "ExecuteTime": {
     "end_time": "2023-09-14T22:54:02.030431Z",
     "start_time": "2023-09-14T22:54:02.027707Z"
    }
   },
   "outputs": [],
   "source": [
    "#calculate std ev and set range of possible obs values\n",
    "\n",
    "stdev = np.sqrt(Hmean * 2)\n",
    "observations = np.arange(0, min(max_obs+1 , (Hmean * 12) +1))"
   ]
  },
  {
   "cell_type": "code",
   "execution_count": 27,
   "id": "7b84d10d",
   "metadata": {
    "ExecuteTime": {
     "end_time": "2023-09-14T22:54:04.071767Z",
     "start_time": "2023-09-14T22:54:04.066738Z"
    }
   },
   "outputs": [
    {
     "data": {
      "text/plain": [
       "(33.183058088315484, 8.146540135335428, 233)"
      ]
     },
     "execution_count": 27,
     "metadata": {},
     "output_type": "execute_result"
    }
   ],
   "source": [
    "Hmean, stdev, max_obs"
   ]
  },
  {
   "cell_type": "code",
   "execution_count": null,
   "id": "01ddcb34",
   "metadata": {},
   "outputs": [],
   "source": []
  }
 ],
 "metadata": {
  "kernelspec": {
   "display_name": "Python 3 (ipykernel)",
   "language": "python",
   "name": "python3"
  },
  "language_info": {
   "codemirror_mode": {
    "name": "ipython",
    "version": 3
   },
   "file_extension": ".py",
   "mimetype": "text/x-python",
   "name": "python",
   "nbconvert_exporter": "python",
   "pygments_lexer": "ipython3",
   "version": "3.11.4"
  },
  "varInspector": {
   "cols": {
    "lenName": 16,
    "lenType": 16,
    "lenVar": 40
   },
   "kernels_config": {
    "python": {
     "delete_cmd_postfix": "",
     "delete_cmd_prefix": "del ",
     "library": "var_list.py",
     "varRefreshCmd": "print(var_dic_list())"
    },
    "r": {
     "delete_cmd_postfix": ") ",
     "delete_cmd_prefix": "rm(",
     "library": "var_list.r",
     "varRefreshCmd": "cat(var_dic_list()) "
    }
   },
   "types_to_exclude": [
    "module",
    "function",
    "builtin_function_or_method",
    "instance",
    "_Feature"
   ],
   "window_display": false
  }
 },
 "nbformat": 4,
 "nbformat_minor": 5
}
