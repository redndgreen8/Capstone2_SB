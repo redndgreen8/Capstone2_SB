{
 "cells": [
  {
   "cell_type": "markdown",
   "id": "27d2cdbf",
   "metadata": {
    "ExecuteTime": {
     "end_time": "2023-09-14T22:26:56.271190Z",
     "start_time": "2023-09-14T22:26:56.268664Z"
    }
   },
   "source": [
    "import numpy as np\n",
    "import pandas as pd\n",
    "import matplotlib.pyplot as plt\n",
    "from scipy.stats import poisson\n"
   ]
  },
  {
   "cell_type": "code",
   "execution_count": 5,
   "id": "575837cc",
   "metadata": {
    "ExecuteTime": {
     "end_time": "2023-09-14T22:26:56.799590Z",
     "start_time": "2023-09-14T22:26:56.708567Z"
    }
   },
   "outputs": [],
   "source": [
    "# we will be looking at a stretch on chr6\n",
    "\n",
    "data = pd.read_table('obs6.txt', header=None)\n",
    "obs = data[0]\n",
    "\n",
    "\n"
   ]
  },
  {
   "cell_type": "code",
   "execution_count": 15,
   "id": "f09e4039",
   "metadata": {
    "ExecuteTime": {
     "end_time": "2023-09-14T22:32:36.328062Z",
     "start_time": "2023-09-14T22:32:36.322430Z"
    }
   },
   "outputs": [
    {
     "data": {
      "text/plain": [
       "233"
      ]
     },
     "execution_count": 15,
     "metadata": {},
     "output_type": "execute_result"
    }
   ],
   "source": [
    "# We have coverage values that range from zero into the hundreds\n",
    "max_obs = obs.max()\n",
    "max_obs"
   ]
  },
  {
   "cell_type": "code",
   "execution_count": 17,
   "id": "e24889c6",
   "metadata": {
    "ExecuteTime": {
     "end_time": "2023-09-14T22:33:13.382571Z",
     "start_time": "2023-09-14T22:33:13.373440Z"
    }
   },
   "outputs": [
    {
     "data": {
      "text/plain": [
       "398.19669705978583"
      ]
     },
     "execution_count": 17,
     "metadata": {},
     "output_type": "execute_result"
    }
   ],
   "source": [
    "# we will cap coverage/copy number at 12*Hmean / 12 \n",
    "n_states = 12\n",
    "Hmean = obs.mean() / 2\n",
    "Hmean\n",
    "\n",
    "max_cov = Hmean * n_states\n",
    "max_cov"
   ]
  },
  {
   "cell_type": "code",
   "execution_count": 18,
   "id": "ee93a506",
   "metadata": {
    "ExecuteTime": {
     "end_time": "2023-09-14T22:33:21.130672Z",
     "start_time": "2023-09-14T22:33:21.125344Z"
    }
   },
   "outputs": [
    {
     "data": {
      "text/plain": [
       "1687224"
      ]
     },
     "execution_count": 18,
     "metadata": {},
     "output_type": "execute_result"
    }
   ],
   "source": [
    "#roughly 1.6e6 data points\n",
    "n_obs = len(obs)\n",
    "n_obs\n",
    "\n"
   ]
  },
  {
   "cell_type": "code",
   "execution_count": 19,
   "id": "39d11846",
   "metadata": {
    "ExecuteTime": {
     "end_time": "2023-09-14T22:33:23.369668Z",
     "start_time": "2023-09-14T22:33:23.366592Z"
    }
   },
   "outputs": [],
   "source": [
    "#calculate std ev and set range of possible obs values\n",
    "\n",
    "stdev = np.sqrt(Hmean * 2)\n",
    "observations = np.arange(0, max_obs+1)"
   ]
  },
  {
   "cell_type": "code",
   "execution_count": 14,
   "id": "d5a61e58",
   "metadata": {
    "ExecuteTime": {
     "end_time": "2023-09-14T22:32:19.417129Z",
     "start_time": "2023-09-14T22:32:19.412652Z"
    }
   },
   "outputs": [
    {
     "data": {
      "text/plain": [
       "(33.183058088315484, 8.146540135335428, 233)"
      ]
     },
     "execution_count": 14,
     "metadata": {},
     "output_type": "execute_result"
    }
   ],
   "source": [
    "Hmean, stdev, max_obs"
   ]
  },
  {
   "cell_type": "code",
   "execution_count": null,
   "id": "c2df6ff3",
   "metadata": {},
   "outputs": [],
   "source": []
  }
 ],
 "metadata": {
  "kernelspec": {
   "display_name": "Python 3 (ipykernel)",
   "language": "python",
   "name": "python3"
  },
  "language_info": {
   "codemirror_mode": {
    "name": "ipython",
    "version": 3
   },
   "file_extension": ".py",
   "mimetype": "text/x-python",
   "name": "python",
   "nbconvert_exporter": "python",
   "pygments_lexer": "ipython3",
   "version": "3.11.4"
  },
  "varInspector": {
   "cols": {
    "lenName": 16,
    "lenType": 16,
    "lenVar": 40
   },
   "kernels_config": {
    "python": {
     "delete_cmd_postfix": "",
     "delete_cmd_prefix": "del ",
     "library": "var_list.py",
     "varRefreshCmd": "print(var_dic_list())"
    },
    "r": {
     "delete_cmd_postfix": ") ",
     "delete_cmd_prefix": "rm(",
     "library": "var_list.r",
     "varRefreshCmd": "cat(var_dic_list()) "
    }
   },
   "types_to_exclude": [
    "module",
    "function",
    "builtin_function_or_method",
    "instance",
    "_Feature"
   ],
   "window_display": false
  }
 },
 "nbformat": 4,
 "nbformat_minor": 5
}
